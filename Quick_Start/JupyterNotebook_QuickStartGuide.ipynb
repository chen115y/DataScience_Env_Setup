{
 "cells": [
  {
   "cell_type": "markdown",
   "metadata": {},
   "source": [
   ]
  },
  {
   "cell_type": "markdown",
   "metadata": {},
   "source": [
    "# Quick Introduction"
   ]
  },
  {
   "cell_type": "markdown",
   "metadata": {},
   "source": [
    "After all, Jupyter is essentially just an advanced word processor. There are two fairly prominent terms that you should notice, which are probably new to you: __cells__ and __kernels__ are key both to understanding Jupyter and to what makes it more than just a word processor. Fortunately, these concepts are not difficult to understand.\n",
    "\n",
    "A kernel is a “computational engine” that executes the code contained in a notebook document. A cell is a container for text to be displayed in the notebook or code to be executed by the notebook’s kernel. Cells form the body of a notebook. In the screenshot of a new notebook in the section above, that box with the green outline is an empty cell. There are two main cell types that we will cover:\n",
    "\n",
    "* A code cell contains code to be executed in the kernel and displays its output below.\n",
    "* A Markdown cell contains text formatted using Markdown and displays its output in-place when it is run.\n",
    "\n",
    "__Keyboard shortcuts__\n",
    "* Run a cell with __Ctrl + Enter__\n",
    "* Save the notebook with __Ctrl + s__\n",
    "* Scroll up and down your cells with your Up and Down keys.\n",
    "* Press A or B to insert a new cell above or below the active cell.\n",
    "* M will transform the active cell to a Markdown cell.\n",
    "* Y will set the active cell to a code cell.\n",
    "* D + D (D twice) will delete the active cell.\n",
    "* Z will undo cell deletion.\n",
    "* Hold Shift and press Up or Down to select multiple cells at once.\n",
    "* With multple cells selected, Shift + M will merge your selection.\n",
    "* Ctrl + Shift + -, in edit mode, will split the active cell at the cursor.\n",
    "\n",
    "For more info, please refer to __[Jupyter Notebook for Beginners](https://www.dataquest.io/blog/jupyter-notebook-tutorial/)__"
   ]
  },
  {
   "cell_type": "markdown",
   "metadata": {},
   "source": [
    "# Markdown Text"
   ]
  },
  {
   "cell_type": "markdown",
   "metadata": {},
   "source": [
    "## Texts and Comments"
   ]
  },
  {
   "cell_type": "markdown",
   "metadata": {},
   "source": [
    "Markdown is a lightweight markup language with plain text formatting syntax. Its design allows it to be converted to many output formats. Markdown is often used to format <span class=\"mark\">readme</span> files, for writing messages in <span class=\"burk\">online</span> discussion forums, and to create rich text using a plain text editor."
   ]
  },
  {
   "cell_type": "markdown",
   "metadata": {},
   "source": [
    "Jupyter notebook uses markdown for text or comment addition. For basic markdown language usage, please refer to [Jupyter Notebook Documentation website](https://jupyter-notebook.readthedocs.io/en/stable/examples/Notebook/Working%20With%20Markdown%20Cells.html)"
   ]
  },
  {
   "cell_type": "markdown",
   "metadata": {},
   "source": [
    "## Math Equations\n",
    "Jupyter notebook uses MathJax to render LaTeX inside html/markdown. Just put your LaTeX math inside \\$$ \\$$. For example,"
   ]
  },
  {
   "cell_type": "code",
   "execution_count": null,
   "metadata": {},
   "outputs": [],
   "source": [
    "$$c = \\sqrt{a^2 + b^2}$$"
   ]
  },
  {
   "cell_type": "markdown",
   "metadata": {},
   "source": [
    "$$c = \\sqrt{a^2 + b^2}$$"
   ]
  },
  {
   "cell_type": "markdown",
   "metadata": {},
   "source": [
    "Or use begin{} end{}"
   ]
  },
  {
   "cell_type": "code",
   "execution_count": null,
   "metadata": {},
   "outputs": [],
   "source": [
    "\\begin{align}\n",
    "\\dot{x} & = \\sigma(y-x) \\\\\n",
    "\\dot{y} & = \\rho x - y - xz \\\\\n",
    "\\dot{z} & = -\\beta z + xy\n",
    "\\end{align}\n",
    "\n",
    "\\begin{equation*}\n",
    "\\left( \\sum_{k=1}^n a_k b_k \\right)^2 \\leq \\left( \\sum_{k=1}^n a_k^2 \\right) \\left( \\sum_{k=1}^n b_k^2 \\right)\n",
    "\\end{equation*}"
   ]
  },
  {
   "cell_type": "markdown",
   "metadata": {},
   "source": [
    "\\begin{align}\n",
    "\\dot{x} & = \\sigma(y-x) \\\\\n",
    "\\dot{y} & = \\rho x - y - xz \\\\\n",
    "\\dot{z} & = -\\beta z + xy\n",
    "\\end{align}\n",
    "\n",
    "\\begin{equation*}\n",
    "\\left( \\sum_{k=1}^n a_k b_k \\right)^2 \\leq \\left( \\sum_{k=1}^n a_k^2 \\right) \\left( \\sum_{k=1}^n b_k^2 \\right)\n",
    "\\end{equation*}"
   ]
  },
  {
   "cell_type": "markdown",
   "metadata": {},
   "source": [
    "Or you can display LaTeX / Math output from Python"
   ]
  },
  {
   "cell_type": "code",
   "execution_count": 8,
   "metadata": {
    "ExecuteTime": {
     "end_time": "2019-07-25T16:43:01.855274Z",
     "start_time": "2019-07-25T16:43:01.849090Z"
    }
   },
   "outputs": [
    {
     "data": {
      "text/latex": [
       "$\\displaystyle F(k) = \\int_{-\\infty}^{\\infty} f(x) e^{2\\pi i k} dx$"
      ],
      "text/plain": [
       "<IPython.core.display.Math object>"
      ]
     },
     "metadata": {},
     "output_type": "display_data"
    }
   ],
   "source": [
    "from IPython.display import display, Math, Latex\n",
    "display(Math(r'F(k) = \\int_{-\\infty}^{\\infty} f(x) e^{2\\pi i k} dx'))"
   ]
  },
  {
   "cell_type": "markdown",
   "metadata": {},
   "source": [
    "## Add Image or Picture"
   ]
  },
  {
   "cell_type": "code",
   "execution_count": null,
   "metadata": {},
   "outputs": [],
   "source": [
    "You can use Markdown cell to display it by using the way of ![title](image location), like below"
   ]
  },
  {
   "cell_type": "markdown",
   "metadata": {
    "ExecuteTime": {
     "end_time": "2019-07-25T17:03:46.472993Z",
     "start_time": "2019-07-25T17:03:46.349895Z"
    }
   },
   "source": [
    "![Title 1](./250px-Jupyter_logo.svg.png)"
   ]
  },
  {
   "cell_type": "markdown",
   "metadata": {
    "slideshow": {
     "slide_type": "slide"
    }
   },
   "source": [
    "# Python Codes"
   ]
  },
  {
   "cell_type": "markdown",
   "metadata": {},
   "source": [
    "The most common used python codes for data science projects are data frame functions, including data reading/loading, data writing, data selection, etc."
   ]
  },
  {
   "cell_type": "markdown",
   "metadata": {},
   "source": [
    "## Read/Load Data"
   ]
  },
  {
   "cell_type": "code",
   "execution_count": 1,
   "metadata": {
    "ExecuteTime": {
     "end_time": "2019-07-26T14:16:15.540113Z",
     "start_time": "2019-07-26T14:16:14.913400Z"
    },
    "scrolled": false,
    "slideshow": {
     "slide_type": "slide"
    }
   },
   "outputs": [
    {
     "data": {
      "text/html": [
       "<div>\n",
       "<style scoped>\n",
       "    .dataframe tbody tr th:only-of-type {\n",
       "        vertical-align: middle;\n",
       "    }\n",
       "\n",
       "    .dataframe tbody tr th {\n",
       "        vertical-align: top;\n",
       "    }\n",
       "\n",
       "    .dataframe thead th {\n",
       "        text-align: right;\n",
       "    }\n",
       "</style>\n",
       "<table border=\"1\" class=\"dataframe\">\n",
       "  <thead>\n",
       "    <tr style=\"text-align: right;\">\n",
       "      <th></th>\n",
       "      <th>master_term</th>\n",
       "      <th>master_term_id</th>\n",
       "      <th>yearmo</th>\n",
       "      <th>month_no</th>\n",
       "      <th>skill_pos_cnt</th>\n",
       "      <th>total_pos_cnt</th>\n",
       "      <th>loop_no</th>\n",
       "    </tr>\n",
       "  </thead>\n",
       "  <tbody>\n",
       "    <tr>\n",
       "      <th>0</th>\n",
       "      <td>Kubernetes</td>\n",
       "      <td>121</td>\n",
       "      <td>201404</td>\n",
       "      <td>4</td>\n",
       "      <td>0</td>\n",
       "      <td>33323</td>\n",
       "      <td>53</td>\n",
       "    </tr>\n",
       "    <tr>\n",
       "      <th>1</th>\n",
       "      <td>Stata</td>\n",
       "      <td>214</td>\n",
       "      <td>201905</td>\n",
       "      <td>65</td>\n",
       "      <td>39</td>\n",
       "      <td>140823</td>\n",
       "      <td>88</td>\n",
       "    </tr>\n",
       "    <tr>\n",
       "      <th>2</th>\n",
       "      <td>Selenium</td>\n",
       "      <td>205</td>\n",
       "      <td>201502</td>\n",
       "      <td>14</td>\n",
       "      <td>250</td>\n",
       "      <td>89734</td>\n",
       "      <td>85</td>\n",
       "    </tr>\n",
       "    <tr>\n",
       "      <th>3</th>\n",
       "      <td>Cisco Application Centric Infrastructure</td>\n",
       "      <td>264</td>\n",
       "      <td>201705</td>\n",
       "      <td>41</td>\n",
       "      <td>3</td>\n",
       "      <td>119820</td>\n",
       "      <td>103</td>\n",
       "    </tr>\n",
       "    <tr>\n",
       "      <th>4</th>\n",
       "      <td>Online Analytical Processing</td>\n",
       "      <td>166</td>\n",
       "      <td>201903</td>\n",
       "      <td>63</td>\n",
       "      <td>55</td>\n",
       "      <td>123132</td>\n",
       "      <td>70</td>\n",
       "    </tr>\n",
       "    <tr>\n",
       "      <th>5</th>\n",
       "      <td>Junit</td>\n",
       "      <td>118</td>\n",
       "      <td>201710</td>\n",
       "      <td>46</td>\n",
       "      <td>438</td>\n",
       "      <td>128582</td>\n",
       "      <td>51</td>\n",
       "    </tr>\n",
       "    <tr>\n",
       "      <th>6</th>\n",
       "      <td>Secret Security Clearance</td>\n",
       "      <td>276</td>\n",
       "      <td>201610</td>\n",
       "      <td>34</td>\n",
       "      <td>29</td>\n",
       "      <td>95676</td>\n",
       "      <td>107</td>\n",
       "    </tr>\n",
       "    <tr>\n",
       "      <th>7</th>\n",
       "      <td>SQL Server Reporting Services</td>\n",
       "      <td>148</td>\n",
       "      <td>201405</td>\n",
       "      <td>5</td>\n",
       "      <td>87</td>\n",
       "      <td>31909</td>\n",
       "      <td>61</td>\n",
       "    </tr>\n",
       "    <tr>\n",
       "      <th>8</th>\n",
       "      <td>Blockchain</td>\n",
       "      <td>39</td>\n",
       "      <td>201704</td>\n",
       "      <td>40</td>\n",
       "      <td>0</td>\n",
       "      <td>104890</td>\n",
       "      <td>18</td>\n",
       "    </tr>\n",
       "    <tr>\n",
       "      <th>9</th>\n",
       "      <td>Internal Auditor</td>\n",
       "      <td>108</td>\n",
       "      <td>201901</td>\n",
       "      <td>61</td>\n",
       "      <td>130</td>\n",
       "      <td>122037</td>\n",
       "      <td>48</td>\n",
       "    </tr>\n",
       "  </tbody>\n",
       "</table>\n",
       "</div>"
      ],
      "text/plain": [
       "                                master_term  master_term_id  yearmo  month_no  \\\n",
       "0                                Kubernetes             121  201404         4   \n",
       "1                                     Stata             214  201905        65   \n",
       "2                                  Selenium             205  201502        14   \n",
       "3  Cisco Application Centric Infrastructure             264  201705        41   \n",
       "4              Online Analytical Processing             166  201903        63   \n",
       "5                                     Junit             118  201710        46   \n",
       "6                 Secret Security Clearance             276  201610        34   \n",
       "7             SQL Server Reporting Services             148  201405         5   \n",
       "8                                Blockchain              39  201704        40   \n",
       "9                          Internal Auditor             108  201901        61   \n",
       "\n",
       "   skill_pos_cnt  total_pos_cnt  loop_no  \n",
       "0              0          33323       53  \n",
       "1             39         140823       88  \n",
       "2            250          89734       85  \n",
       "3              3         119820      103  \n",
       "4             55         123132       70  \n",
       "5            438         128582       51  \n",
       "6             29          95676      107  \n",
       "7             87          31909       61  \n",
       "8              0         104890       18  \n",
       "9            130         122037       48  "
      ]
     },
     "execution_count": 1,
     "metadata": {},
     "output_type": "execute_result"
    }
   ],
   "source": [
    "import numpy as np\n",
    "import pandas as pd\n",
    "\n",
    "df = pd.read_csv('../datasets/input_hot_skills.csv', encoding = \"utf-8\")\n",
    "df.head(10)"
   ]
  },
  {
   "cell_type": "code",
   "execution_count": 2,
   "metadata": {
    "ExecuteTime": {
     "end_time": "2019-07-26T14:16:18.914788Z",
     "start_time": "2019-07-26T14:16:18.903087Z"
    }
   },
   "outputs": [
    {
     "name": "stdout",
     "output_type": "stream",
     "text": [
      "<class 'pandas.core.frame.DataFrame'>\n",
      "RangeIndex: 7169 entries, 0 to 7168\n",
      "Data columns (total 7 columns):\n",
      "master_term       7169 non-null object\n",
      "master_term_id    7169 non-null int64\n",
      "yearmo            7169 non-null int64\n",
      "month_no          7169 non-null int64\n",
      "skill_pos_cnt     7169 non-null int64\n",
      "total_pos_cnt     7169 non-null int64\n",
      "loop_no           7169 non-null int64\n",
      "dtypes: int64(6), object(1)\n",
      "memory usage: 392.2+ KB\n"
     ]
    }
   ],
   "source": [
    "# Show this dataframe's schema information\n",
    "df.info()"
   ]
  },
  {
   "cell_type": "markdown",
   "metadata": {},
   "source": [
    "## Data Selection"
   ]
  },
  {
   "cell_type": "code",
   "execution_count": 2,
   "metadata": {
    "ExecuteTime": {
     "end_time": "2019-07-26T06:01:07.197229Z",
     "start_time": "2019-07-26T06:01:07.177401Z"
    }
   },
   "outputs": [
    {
     "data": {
      "text/html": [
       "<div>\n",
       "<style scoped>\n",
       "    .dataframe tbody tr th:only-of-type {\n",
       "        vertical-align: middle;\n",
       "    }\n",
       "\n",
       "    .dataframe tbody tr th {\n",
       "        vertical-align: top;\n",
       "    }\n",
       "\n",
       "    .dataframe thead th {\n",
       "        text-align: right;\n",
       "    }\n",
       "</style>\n",
       "<table border=\"1\" class=\"dataframe\">\n",
       "  <thead>\n",
       "    <tr style=\"text-align: right;\">\n",
       "      <th></th>\n",
       "      <th>yearmo</th>\n",
       "      <th>master_term</th>\n",
       "      <th>skill_pos_cnt</th>\n",
       "    </tr>\n",
       "  </thead>\n",
       "  <tbody>\n",
       "    <tr>\n",
       "      <th>3</th>\n",
       "      <td>201705</td>\n",
       "      <td>Cisco Application Centric Infrastructure</td>\n",
       "      <td>3</td>\n",
       "    </tr>\n",
       "    <tr>\n",
       "      <th>55</th>\n",
       "      <td>201705</td>\n",
       "      <td>Golang</td>\n",
       "      <td>57</td>\n",
       "    </tr>\n",
       "    <tr>\n",
       "      <th>67</th>\n",
       "      <td>201705</td>\n",
       "      <td>ASP.NET</td>\n",
       "      <td>705</td>\n",
       "    </tr>\n",
       "    <tr>\n",
       "      <th>71</th>\n",
       "      <td>201705</td>\n",
       "      <td>Ruby</td>\n",
       "      <td>483</td>\n",
       "    </tr>\n",
       "    <tr>\n",
       "      <th>158</th>\n",
       "      <td>201705</td>\n",
       "      <td>Outlook</td>\n",
       "      <td>3380</td>\n",
       "    </tr>\n",
       "    <tr>\n",
       "      <th>331</th>\n",
       "      <td>201705</td>\n",
       "      <td>IBM Notes</td>\n",
       "      <td>0</td>\n",
       "    </tr>\n",
       "    <tr>\n",
       "      <th>344</th>\n",
       "      <td>201705</td>\n",
       "      <td>JCL</td>\n",
       "      <td>130</td>\n",
       "    </tr>\n",
       "    <tr>\n",
       "      <th>366</th>\n",
       "      <td>201705</td>\n",
       "      <td>WildFly</td>\n",
       "      <td>643</td>\n",
       "    </tr>\n",
       "    <tr>\n",
       "      <th>367</th>\n",
       "      <td>201705</td>\n",
       "      <td>Switching and Routing</td>\n",
       "      <td>264</td>\n",
       "    </tr>\n",
       "    <tr>\n",
       "      <th>436</th>\n",
       "      <td>201705</td>\n",
       "      <td>AWS Cloud</td>\n",
       "      <td>510</td>\n",
       "    </tr>\n",
       "  </tbody>\n",
       "</table>\n",
       "</div>"
      ],
      "text/plain": [
       "     yearmo                               master_term  skill_pos_cnt\n",
       "3    201705  Cisco Application Centric Infrastructure              3\n",
       "55   201705                                    Golang             57\n",
       "67   201705                                   ASP.NET            705\n",
       "71   201705                                      Ruby            483\n",
       "158  201705                                   Outlook           3380\n",
       "331  201705                                 IBM Notes              0\n",
       "344  201705                                       JCL            130\n",
       "366  201705                                   WildFly            643\n",
       "367  201705                     Switching and Routing            264\n",
       "436  201705                                 AWS Cloud            510"
      ]
     },
     "execution_count": 2,
     "metadata": {},
     "output_type": "execute_result"
    }
   ],
   "source": [
    "df.loc[df['yearmo']==201705, ['yearmo','master_term', 'skill_pos_cnt']].head(10)"
   ]
  },
  {
   "cell_type": "markdown",
   "metadata": {},
   "source": [
    "## Add New Column"
   ]
  },
  {
   "cell_type": "code",
   "execution_count": 3,
   "metadata": {
    "ExecuteTime": {
     "end_time": "2019-07-26T06:01:11.631005Z",
     "start_time": "2019-07-26T06:01:11.600565Z"
    }
   },
   "outputs": [
    {
     "data": {
      "text/html": [
       "<div>\n",
       "<style scoped>\n",
       "    .dataframe tbody tr th:only-of-type {\n",
       "        vertical-align: middle;\n",
       "    }\n",
       "\n",
       "    .dataframe tbody tr th {\n",
       "        vertical-align: top;\n",
       "    }\n",
       "\n",
       "    .dataframe thead th {\n",
       "        text-align: right;\n",
       "    }\n",
       "</style>\n",
       "<table border=\"1\" class=\"dataframe\">\n",
       "  <thead>\n",
       "    <tr style=\"text-align: right;\">\n",
       "      <th></th>\n",
       "      <th>master_term</th>\n",
       "      <th>master_term_id</th>\n",
       "      <th>yearmo</th>\n",
       "      <th>month_no</th>\n",
       "      <th>skill_pos_cnt</th>\n",
       "      <th>total_pos_cnt</th>\n",
       "      <th>loop_no</th>\n",
       "      <th>year_no</th>\n",
       "    </tr>\n",
       "  </thead>\n",
       "  <tbody>\n",
       "    <tr>\n",
       "      <th>0</th>\n",
       "      <td>Kubernetes</td>\n",
       "      <td>121</td>\n",
       "      <td>201404</td>\n",
       "      <td>4</td>\n",
       "      <td>0</td>\n",
       "      <td>33323</td>\n",
       "      <td>53</td>\n",
       "      <td>2014</td>\n",
       "    </tr>\n",
       "    <tr>\n",
       "      <th>1</th>\n",
       "      <td>Stata</td>\n",
       "      <td>214</td>\n",
       "      <td>201905</td>\n",
       "      <td>65</td>\n",
       "      <td>39</td>\n",
       "      <td>140823</td>\n",
       "      <td>88</td>\n",
       "      <td>2019</td>\n",
       "    </tr>\n",
       "    <tr>\n",
       "      <th>2</th>\n",
       "      <td>Selenium</td>\n",
       "      <td>205</td>\n",
       "      <td>201502</td>\n",
       "      <td>14</td>\n",
       "      <td>250</td>\n",
       "      <td>89734</td>\n",
       "      <td>85</td>\n",
       "      <td>2015</td>\n",
       "    </tr>\n",
       "    <tr>\n",
       "      <th>3</th>\n",
       "      <td>Cisco Application Centric Infrastructure</td>\n",
       "      <td>264</td>\n",
       "      <td>201705</td>\n",
       "      <td>41</td>\n",
       "      <td>3</td>\n",
       "      <td>119820</td>\n",
       "      <td>103</td>\n",
       "      <td>2017</td>\n",
       "    </tr>\n",
       "    <tr>\n",
       "      <th>4</th>\n",
       "      <td>Online Analytical Processing</td>\n",
       "      <td>166</td>\n",
       "      <td>201903</td>\n",
       "      <td>63</td>\n",
       "      <td>55</td>\n",
       "      <td>123132</td>\n",
       "      <td>70</td>\n",
       "      <td>2019</td>\n",
       "    </tr>\n",
       "    <tr>\n",
       "      <th>5</th>\n",
       "      <td>Junit</td>\n",
       "      <td>118</td>\n",
       "      <td>201710</td>\n",
       "      <td>46</td>\n",
       "      <td>438</td>\n",
       "      <td>128582</td>\n",
       "      <td>51</td>\n",
       "      <td>2017</td>\n",
       "    </tr>\n",
       "    <tr>\n",
       "      <th>6</th>\n",
       "      <td>Secret Security Clearance</td>\n",
       "      <td>276</td>\n",
       "      <td>201610</td>\n",
       "      <td>34</td>\n",
       "      <td>29</td>\n",
       "      <td>95676</td>\n",
       "      <td>107</td>\n",
       "      <td>2016</td>\n",
       "    </tr>\n",
       "    <tr>\n",
       "      <th>7</th>\n",
       "      <td>SQL Server Reporting Services</td>\n",
       "      <td>148</td>\n",
       "      <td>201405</td>\n",
       "      <td>5</td>\n",
       "      <td>87</td>\n",
       "      <td>31909</td>\n",
       "      <td>61</td>\n",
       "      <td>2014</td>\n",
       "    </tr>\n",
       "    <tr>\n",
       "      <th>8</th>\n",
       "      <td>Blockchain</td>\n",
       "      <td>39</td>\n",
       "      <td>201704</td>\n",
       "      <td>40</td>\n",
       "      <td>0</td>\n",
       "      <td>104890</td>\n",
       "      <td>18</td>\n",
       "      <td>2017</td>\n",
       "    </tr>\n",
       "    <tr>\n",
       "      <th>9</th>\n",
       "      <td>Internal Auditor</td>\n",
       "      <td>108</td>\n",
       "      <td>201901</td>\n",
       "      <td>61</td>\n",
       "      <td>130</td>\n",
       "      <td>122037</td>\n",
       "      <td>48</td>\n",
       "      <td>2019</td>\n",
       "    </tr>\n",
       "  </tbody>\n",
       "</table>\n",
       "</div>"
      ],
      "text/plain": [
       "                                master_term  master_term_id  yearmo  month_no  \\\n",
       "0                                Kubernetes             121  201404         4   \n",
       "1                                     Stata             214  201905        65   \n",
       "2                                  Selenium             205  201502        14   \n",
       "3  Cisco Application Centric Infrastructure             264  201705        41   \n",
       "4              Online Analytical Processing             166  201903        63   \n",
       "5                                     Junit             118  201710        46   \n",
       "6                 Secret Security Clearance             276  201610        34   \n",
       "7             SQL Server Reporting Services             148  201405         5   \n",
       "8                                Blockchain              39  201704        40   \n",
       "9                          Internal Auditor             108  201901        61   \n",
       "\n",
       "   skill_pos_cnt  total_pos_cnt  loop_no year_no  \n",
       "0              0          33323       53    2014  \n",
       "1             39         140823       88    2019  \n",
       "2            250          89734       85    2015  \n",
       "3              3         119820      103    2017  \n",
       "4             55         123132       70    2019  \n",
       "5            438         128582       51    2017  \n",
       "6             29          95676      107    2016  \n",
       "7             87          31909       61    2014  \n",
       "8              0         104890       18    2017  \n",
       "9            130         122037       48    2019  "
      ]
     },
     "execution_count": 3,
     "metadata": {},
     "output_type": "execute_result"
    }
   ],
   "source": [
    "df['year_no'] = df['yearmo'].astype(str).str.slice(0, 4)\n",
    "df.head(10)"
   ]
  },
  {
   "cell_type": "markdown",
   "metadata": {},
   "source": [
    "# Pyspark Codes"
   ]
  },
  {
   "cell_type": "markdown",
   "metadata": {},
   "source": [
    "## Initialize Pyspark Context"
   ]
  },
  {
   "cell_type": "code",
   "execution_count": 4,
   "metadata": {
    "ExecuteTime": {
     "end_time": "2019-07-26T13:51:47.348939Z",
     "start_time": "2019-07-26T13:51:39.626752Z"
    }
   },
   "outputs": [],
   "source": [
    "import findspark\n",
    "findspark.init()\n",
    "import pyspark\n",
    "\n",
    "sc = pyspark.SparkContext(appName = 'Demo')"
   ]
  },
  {
   "cell_type": "markdown",
   "metadata": {},
   "source": [
    "## Read/Load Data"
   ]
  },
  {
   "cell_type": "code",
   "execution_count": 8,
   "metadata": {
    "ExecuteTime": {
     "end_time": "2019-07-26T13:53:12.993050Z",
     "start_time": "2019-07-26T13:53:12.395051Z"
    },
    "scrolled": false
   },
   "outputs": [
    {
     "name": "stdout",
     "output_type": "stream",
     "text": [
      "+--------------------+--------------+------+--------+-------------+-------------+-------+\n",
      "|         master_term|master_term_id|yearmo|month_no|skill_pos_cnt|total_pos_cnt|loop_no|\n",
      "+--------------------+--------------+------+--------+-------------+-------------+-------+\n",
      "|          Kubernetes|           121|201404|       4|            0|        33323|     53|\n",
      "|               Stata|           214|201905|      65|           39|       140823|     88|\n",
      "|            Selenium|           205|201502|      14|          250|        89734|     85|\n",
      "|Cisco Application...|           264|201705|      41|            3|       119820|    103|\n",
      "|Online Analytical...|           166|201903|      63|           55|       123132|     70|\n",
      "|               Junit|           118|201710|      46|          438|       128582|     51|\n",
      "|Secret Security C...|           276|201610|      34|           29|        95676|    107|\n",
      "|SQL Server Report...|           148|201405|       5|           87|        31909|     61|\n",
      "|          Blockchain|            39|201704|      40|            0|       104890|     18|\n",
      "|    Internal Auditor|           108|201901|      61|          130|       122037|     48|\n",
      "+--------------------+--------------+------+--------+-------------+-------------+-------+\n",
      "only showing top 10 rows\n",
      "\n",
      "root\n",
      " |-- master_term: string (nullable = true)\n",
      " |-- master_term_id: integer (nullable = true)\n",
      " |-- yearmo: integer (nullable = true)\n",
      " |-- month_no: integer (nullable = true)\n",
      " |-- skill_pos_cnt: integer (nullable = true)\n",
      " |-- total_pos_cnt: integer (nullable = true)\n",
      " |-- loop_no: integer (nullable = true)\n",
      "\n"
     ]
    }
   ],
   "source": [
    "from pyspark import SQLContext\n",
    "import os\n",
    "\n",
    "sqlContext = SQLContext(sc)\n",
    "\n",
    "if os.path.exists('../datasets/input_hot_skills.csv'):\n",
    "    sample_df = sqlContext.read.csv('../datasets/input_hot_skills.csv', inferSchema=True, header=True)\n",
    "    sample_df.show(10)\n",
    "    sample_df.printSchema()\n",
    "else:\n",
    "    print('CSV File Doesnot Exist!')"
   ]
  },
  {
   "cell_type": "markdown",
   "metadata": {},
   "source": [
    "## Data Selection"
   ]
  },
  {
   "cell_type": "code",
   "execution_count": 11,
   "metadata": {
    "ExecuteTime": {
     "end_time": "2019-07-26T13:58:47.418502Z",
     "start_time": "2019-07-26T13:58:47.229869Z"
    },
    "scrolled": true
   },
   "outputs": [
    {
     "name": "stdout",
     "output_type": "stream",
     "text": [
      "+------+--------------------+-------------+\n",
      "|yearmo|         master_term|skill_pos_cnt|\n",
      "+------+--------------------+-------------+\n",
      "|201705|Cisco Application...|            3|\n",
      "|201705|              Golang|           57|\n",
      "|201705|             ASP.NET|          705|\n",
      "|201705|                Ruby|          483|\n",
      "|201705|             Outlook|         3380|\n",
      "|201705|           IBM Notes|            0|\n",
      "|201705|                 JCL|          130|\n",
      "|201705|             WildFly|          643|\n",
      "|201705|Switching and Rou...|          264|\n",
      "|201705|           AWS Cloud|          510|\n",
      "+------+--------------------+-------------+\n",
      "only showing top 10 rows\n",
      "\n"
     ]
    }
   ],
   "source": [
    "sample_df.select('yearmo','master_term', 'skill_pos_cnt')\\\n",
    "    .filter(sample_df.yearmo == 201705)\\\n",
    "    .show(10)"
   ]
  },
  {
   "cell_type": "markdown",
   "metadata": {},
   "source": [
    "## Add New Column"
   ]
  },
  {
   "cell_type": "code",
   "execution_count": 14,
   "metadata": {
    "ExecuteTime": {
     "end_time": "2019-07-26T14:05:47.794837Z",
     "start_time": "2019-07-26T14:05:47.546661Z"
    },
    "scrolled": true
   },
   "outputs": [
    {
     "name": "stdout",
     "output_type": "stream",
     "text": [
      "+--------------------+--------------+------+--------+-------------+-------------+-------+-------+\n",
      "|         master_term|master_term_id|yearmo|month_no|skill_pos_cnt|total_pos_cnt|loop_no|year_no|\n",
      "+--------------------+--------------+------+--------+-------------+-------------+-------+-------+\n",
      "|          Kubernetes|           121|201404|       4|            0|        33323|     53|   2014|\n",
      "|               Stata|           214|201905|      65|           39|       140823|     88|   2019|\n",
      "|            Selenium|           205|201502|      14|          250|        89734|     85|   2015|\n",
      "|Cisco Application...|           264|201705|      41|            3|       119820|    103|   2017|\n",
      "|Online Analytical...|           166|201903|      63|           55|       123132|     70|   2019|\n",
      "|               Junit|           118|201710|      46|          438|       128582|     51|   2017|\n",
      "|Secret Security C...|           276|201610|      34|           29|        95676|    107|   2016|\n",
      "|SQL Server Report...|           148|201405|       5|           87|        31909|     61|   2014|\n",
      "|          Blockchain|            39|201704|      40|            0|       104890|     18|   2017|\n",
      "|    Internal Auditor|           108|201901|      61|          130|       122037|     48|   2019|\n",
      "+--------------------+--------------+------+--------+-------------+-------------+-------+-------+\n",
      "only showing top 10 rows\n",
      "\n"
     ]
    }
   ],
   "source": [
    "sample_df.withColumn('year_no', sample_df.yearmo.substr(0,4)).show(10)"
   ]
  },
  {
   "cell_type": "markdown",
   "metadata": {},
   "source": [
    "## SQL Codes in Pyspark"
   ]
  },
  {
   "cell_type": "code",
   "execution_count": 18,
   "metadata": {
    "ExecuteTime": {
     "end_time": "2019-07-26T14:08:25.062078Z",
     "start_time": "2019-07-26T14:08:24.906278Z"
    },
    "scrolled": true
   },
   "outputs": [
    {
     "name": "stdout",
     "output_type": "stream",
     "text": [
      "+--------------------+--------------+------+--------+-------------+-------------+-------+\n",
      "|         master_term|master_term_id|yearmo|month_no|skill_pos_cnt|total_pos_cnt|loop_no|\n",
      "+--------------------+--------------+------+--------+-------------+-------------+-------+\n",
      "|Natural Language ...|           270|201907|      67|            3|        26524|    105|\n",
      "|InfoSphere DataStage|           102|201907|      67|            2|        26524|     45|\n",
      "|                CICS|            55|201907|      67|           12|        26524|     25|\n",
      "|          Kubernetes|           121|201907|      67|           54|        26524|     53|\n",
      "|            QlikView|           186|201907|      67|           12|        26524|     74|\n",
      "|             ASP.NET|            28|201907|      67|           36|        26524|     10|\n",
      "|               NoSQL|           165|201907|      67|           28|        26524|     69|\n",
      "|             Linux  |           126|201907|      67|          182|        26524|     54|\n",
      "|          Deployment|            69|201907|      67|          371|        26524|     33|\n",
      "|             Minitab|           156|201907|      67|            2|        26524|     65|\n",
      "+--------------------+--------------+------+--------+-------------+-------------+-------+\n",
      "only showing top 10 rows\n",
      "\n"
     ]
    }
   ],
   "source": [
    "sample_df.registerTempTable('sample_table')\n",
    "sqlContext.sql('select * from sample_table order by yearmo desc').show(10)"
   ]
  },
  {
   "cell_type": "markdown",
   "metadata": {},
   "source": [
    "## Convert to Pandas Data Frame"
   ]
  },
  {
   "cell_type": "code",
   "execution_count": 19,
   "metadata": {
    "ExecuteTime": {
     "end_time": "2019-07-26T14:12:14.149397Z",
     "start_time": "2019-07-26T14:12:12.786742Z"
    }
   },
   "outputs": [
    {
     "data": {
      "text/html": [
       "<div>\n",
       "<style scoped>\n",
       "    .dataframe tbody tr th:only-of-type {\n",
       "        vertical-align: middle;\n",
       "    }\n",
       "\n",
       "    .dataframe tbody tr th {\n",
       "        vertical-align: top;\n",
       "    }\n",
       "\n",
       "    .dataframe thead th {\n",
       "        text-align: right;\n",
       "    }\n",
       "</style>\n",
       "<table border=\"1\" class=\"dataframe\">\n",
       "  <thead>\n",
       "    <tr style=\"text-align: right;\">\n",
       "      <th></th>\n",
       "      <th>master_term</th>\n",
       "      <th>master_term_id</th>\n",
       "      <th>yearmo</th>\n",
       "      <th>month_no</th>\n",
       "      <th>skill_pos_cnt</th>\n",
       "      <th>total_pos_cnt</th>\n",
       "      <th>loop_no</th>\n",
       "    </tr>\n",
       "  </thead>\n",
       "  <tbody>\n",
       "    <tr>\n",
       "      <th>0</th>\n",
       "      <td>Kubernetes</td>\n",
       "      <td>121</td>\n",
       "      <td>201404</td>\n",
       "      <td>4</td>\n",
       "      <td>0</td>\n",
       "      <td>33323</td>\n",
       "      <td>53</td>\n",
       "    </tr>\n",
       "    <tr>\n",
       "      <th>1</th>\n",
       "      <td>Stata</td>\n",
       "      <td>214</td>\n",
       "      <td>201905</td>\n",
       "      <td>65</td>\n",
       "      <td>39</td>\n",
       "      <td>140823</td>\n",
       "      <td>88</td>\n",
       "    </tr>\n",
       "    <tr>\n",
       "      <th>2</th>\n",
       "      <td>Selenium</td>\n",
       "      <td>205</td>\n",
       "      <td>201502</td>\n",
       "      <td>14</td>\n",
       "      <td>250</td>\n",
       "      <td>89734</td>\n",
       "      <td>85</td>\n",
       "    </tr>\n",
       "    <tr>\n",
       "      <th>3</th>\n",
       "      <td>Cisco Application Centric Infrastructure</td>\n",
       "      <td>264</td>\n",
       "      <td>201705</td>\n",
       "      <td>41</td>\n",
       "      <td>3</td>\n",
       "      <td>119820</td>\n",
       "      <td>103</td>\n",
       "    </tr>\n",
       "    <tr>\n",
       "      <th>4</th>\n",
       "      <td>Online Analytical Processing</td>\n",
       "      <td>166</td>\n",
       "      <td>201903</td>\n",
       "      <td>63</td>\n",
       "      <td>55</td>\n",
       "      <td>123132</td>\n",
       "      <td>70</td>\n",
       "    </tr>\n",
       "    <tr>\n",
       "      <th>5</th>\n",
       "      <td>Junit</td>\n",
       "      <td>118</td>\n",
       "      <td>201710</td>\n",
       "      <td>46</td>\n",
       "      <td>438</td>\n",
       "      <td>128582</td>\n",
       "      <td>51</td>\n",
       "    </tr>\n",
       "    <tr>\n",
       "      <th>6</th>\n",
       "      <td>Secret Security Clearance</td>\n",
       "      <td>276</td>\n",
       "      <td>201610</td>\n",
       "      <td>34</td>\n",
       "      <td>29</td>\n",
       "      <td>95676</td>\n",
       "      <td>107</td>\n",
       "    </tr>\n",
       "    <tr>\n",
       "      <th>7</th>\n",
       "      <td>SQL Server Reporting Services</td>\n",
       "      <td>148</td>\n",
       "      <td>201405</td>\n",
       "      <td>5</td>\n",
       "      <td>87</td>\n",
       "      <td>31909</td>\n",
       "      <td>61</td>\n",
       "    </tr>\n",
       "    <tr>\n",
       "      <th>8</th>\n",
       "      <td>Blockchain</td>\n",
       "      <td>39</td>\n",
       "      <td>201704</td>\n",
       "      <td>40</td>\n",
       "      <td>0</td>\n",
       "      <td>104890</td>\n",
       "      <td>18</td>\n",
       "    </tr>\n",
       "    <tr>\n",
       "      <th>9</th>\n",
       "      <td>Internal Auditor</td>\n",
       "      <td>108</td>\n",
       "      <td>201901</td>\n",
       "      <td>61</td>\n",
       "      <td>130</td>\n",
       "      <td>122037</td>\n",
       "      <td>48</td>\n",
       "    </tr>\n",
       "  </tbody>\n",
       "</table>\n",
       "</div>"
      ],
      "text/plain": [
       "                                master_term  master_term_id  yearmo  month_no  \\\n",
       "0                                Kubernetes             121  201404         4   \n",
       "1                                     Stata             214  201905        65   \n",
       "2                                  Selenium             205  201502        14   \n",
       "3  Cisco Application Centric Infrastructure             264  201705        41   \n",
       "4              Online Analytical Processing             166  201903        63   \n",
       "5                                     Junit             118  201710        46   \n",
       "6                 Secret Security Clearance             276  201610        34   \n",
       "7             SQL Server Reporting Services             148  201405         5   \n",
       "8                                Blockchain              39  201704        40   \n",
       "9                          Internal Auditor             108  201901        61   \n",
       "\n",
       "   skill_pos_cnt  total_pos_cnt  loop_no  \n",
       "0              0          33323       53  \n",
       "1             39         140823       88  \n",
       "2            250          89734       85  \n",
       "3              3         119820      103  \n",
       "4             55         123132       70  \n",
       "5            438         128582       51  \n",
       "6             29          95676      107  \n",
       "7             87          31909       61  \n",
       "8              0         104890       18  \n",
       "9            130         122037       48  "
      ]
     },
     "execution_count": 19,
     "metadata": {},
     "output_type": "execute_result"
    }
   ],
   "source": [
    "sample_df.toPandas().head(10)"
   ]
  },
  {
   "cell_type": "markdown",
   "metadata": {},
   "source": [
    "# Visualization"
   ]
  },
  {
   "cell_type": "markdown",
   "metadata": {},
   "source": [
    "Visualizaiton can usually be done with Python matplotlib, seaborn or/and other libraries or R ggplot or ggplot2"
   ]
  },
  {
   "cell_type": "markdown",
   "metadata": {},
   "source": [
    "## Load Matplotlib and Basic Setup"
   ]
  },
  {
   "cell_type": "code",
   "execution_count": 4,
   "metadata": {
    "ExecuteTime": {
     "end_time": "2019-07-26T06:01:27.008118Z",
     "start_time": "2019-07-26T06:01:26.724046Z"
    }
   },
   "outputs": [],
   "source": [
    "# Matplotlib and seaborn for visualization\n",
    "import matplotlib.pyplot as plt\n",
    "import matplotlib as mpl\n",
    "\n",
    "# Set up matplotlib environment\n",
    "%matplotlib inline\n",
    "mpl.rcParams['font.size'] = 10\n",
    "mpl.rcParams['figure.figsize'] = (5, 5)\n",
    "\n",
    "from IPython.core.pylabtools import figsize"
   ]
  },
  {
   "cell_type": "markdown",
   "metadata": {},
   "source": [
    "## Plot Drawing"
   ]
  },
  {
   "cell_type": "markdown",
   "metadata": {},
   "source": [
    "In this section, we want to show a trending plot about the skill of \"Kubernetes\" count."
   ]
  },
  {
   "cell_type": "code",
   "execution_count": 5,
   "metadata": {
    "ExecuteTime": {
     "end_time": "2019-07-26T06:01:30.145859Z",
     "start_time": "2019-07-26T06:01:30.125733Z"
    }
   },
   "outputs": [
    {
     "data": {
      "text/html": [
       "<div>\n",
       "<style scoped>\n",
       "    .dataframe tbody tr th:only-of-type {\n",
       "        vertical-align: middle;\n",
       "    }\n",
       "\n",
       "    .dataframe tbody tr th {\n",
       "        vertical-align: top;\n",
       "    }\n",
       "\n",
       "    .dataframe thead th {\n",
       "        text-align: right;\n",
       "    }\n",
       "</style>\n",
       "<table border=\"1\" class=\"dataframe\">\n",
       "  <thead>\n",
       "    <tr style=\"text-align: right;\">\n",
       "      <th></th>\n",
       "      <th>year_no</th>\n",
       "      <th>master_term</th>\n",
       "      <th>skill_pos_cnt</th>\n",
       "    </tr>\n",
       "  </thead>\n",
       "  <tbody>\n",
       "    <tr>\n",
       "      <th>0</th>\n",
       "      <td>2014</td>\n",
       "      <td>Kubernetes</td>\n",
       "      <td>0</td>\n",
       "    </tr>\n",
       "    <tr>\n",
       "      <th>124</th>\n",
       "      <td>2018</td>\n",
       "      <td>Kubernetes</td>\n",
       "      <td>194</td>\n",
       "    </tr>\n",
       "    <tr>\n",
       "      <th>199</th>\n",
       "      <td>2018</td>\n",
       "      <td>Kubernetes</td>\n",
       "      <td>121</td>\n",
       "    </tr>\n",
       "    <tr>\n",
       "      <th>202</th>\n",
       "      <td>2019</td>\n",
       "      <td>Kubernetes</td>\n",
       "      <td>54</td>\n",
       "    </tr>\n",
       "    <tr>\n",
       "      <th>248</th>\n",
       "      <td>2019</td>\n",
       "      <td>Kubernetes</td>\n",
       "      <td>314</td>\n",
       "    </tr>\n",
       "    <tr>\n",
       "      <th>348</th>\n",
       "      <td>2018</td>\n",
       "      <td>Kubernetes</td>\n",
       "      <td>209</td>\n",
       "    </tr>\n",
       "    <tr>\n",
       "      <th>397</th>\n",
       "      <td>2019</td>\n",
       "      <td>Kubernetes</td>\n",
       "      <td>585</td>\n",
       "    </tr>\n",
       "    <tr>\n",
       "      <th>493</th>\n",
       "      <td>2014</td>\n",
       "      <td>Kubernetes</td>\n",
       "      <td>0</td>\n",
       "    </tr>\n",
       "    <tr>\n",
       "      <th>808</th>\n",
       "      <td>2014</td>\n",
       "      <td>Kubernetes</td>\n",
       "      <td>0</td>\n",
       "    </tr>\n",
       "    <tr>\n",
       "      <th>1003</th>\n",
       "      <td>2014</td>\n",
       "      <td>Kubernetes</td>\n",
       "      <td>0</td>\n",
       "    </tr>\n",
       "  </tbody>\n",
       "</table>\n",
       "</div>"
      ],
      "text/plain": [
       "     year_no master_term  skill_pos_cnt\n",
       "0       2014  Kubernetes              0\n",
       "124     2018  Kubernetes            194\n",
       "199     2018  Kubernetes            121\n",
       "202     2019  Kubernetes             54\n",
       "248     2019  Kubernetes            314\n",
       "348     2018  Kubernetes            209\n",
       "397     2019  Kubernetes            585\n",
       "493     2014  Kubernetes              0\n",
       "808     2014  Kubernetes              0\n",
       "1003    2014  Kubernetes              0"
      ]
     },
     "execution_count": 5,
     "metadata": {},
     "output_type": "execute_result"
    }
   ],
   "source": [
    "df1 = df.loc[df['master_term']=='Kubernetes', ['year_no', 'master_term', 'skill_pos_cnt']]\n",
    "df1.head(10)"
   ]
  },
  {
   "cell_type": "markdown",
   "metadata": {},
   "source": [
    "Sum of skill count for Kubernetes with group by on every year"
   ]
  },
  {
   "cell_type": "code",
   "execution_count": 6,
   "metadata": {
    "ExecuteTime": {
     "end_time": "2019-07-26T06:01:33.642537Z",
     "start_time": "2019-07-26T06:01:33.625088Z"
    }
   },
   "outputs": [
    {
     "data": {
      "text/html": [
       "<div>\n",
       "<style scoped>\n",
       "    .dataframe tbody tr th:only-of-type {\n",
       "        vertical-align: middle;\n",
       "    }\n",
       "\n",
       "    .dataframe tbody tr th {\n",
       "        vertical-align: top;\n",
       "    }\n",
       "\n",
       "    .dataframe thead th {\n",
       "        text-align: right;\n",
       "    }\n",
       "</style>\n",
       "<table border=\"1\" class=\"dataframe\">\n",
       "  <thead>\n",
       "    <tr style=\"text-align: right;\">\n",
       "      <th></th>\n",
       "      <th>skill_pos_cnt</th>\n",
       "    </tr>\n",
       "    <tr>\n",
       "      <th>year_no</th>\n",
       "      <th></th>\n",
       "    </tr>\n",
       "  </thead>\n",
       "  <tbody>\n",
       "    <tr>\n",
       "      <th>2014</th>\n",
       "      <td>0</td>\n",
       "    </tr>\n",
       "    <tr>\n",
       "      <th>2015</th>\n",
       "      <td>94</td>\n",
       "    </tr>\n",
       "    <tr>\n",
       "      <th>2016</th>\n",
       "      <td>208</td>\n",
       "    </tr>\n",
       "    <tr>\n",
       "      <th>2017</th>\n",
       "      <td>954</td>\n",
       "    </tr>\n",
       "    <tr>\n",
       "      <th>2018</th>\n",
       "      <td>2823</td>\n",
       "    </tr>\n",
       "    <tr>\n",
       "      <th>2019</th>\n",
       "      <td>2628</td>\n",
       "    </tr>\n",
       "  </tbody>\n",
       "</table>\n",
       "</div>"
      ],
      "text/plain": [
       "         skill_pos_cnt\n",
       "year_no               \n",
       "2014                 0\n",
       "2015                94\n",
       "2016               208\n",
       "2017               954\n",
       "2018              2823\n",
       "2019              2628"
      ]
     },
     "execution_count": 6,
     "metadata": {},
     "output_type": "execute_result"
    }
   ],
   "source": [
    "df1 = df1.groupby(['year_no']).sum()\n",
    "df1.sort_index(inplace=True)\n",
    "df1.head(10)"
   ]
  },
  {
   "cell_type": "markdown",
   "metadata": {},
   "source": [
    "Show the trending plot for Kubernetes skill"
   ]
  },
  {
   "cell_type": "code",
   "execution_count": 7,
   "metadata": {
    "ExecuteTime": {
     "end_time": "2019-07-26T06:01:37.312026Z",
     "start_time": "2019-07-26T06:01:36.997710Z"
    }
   },
   "outputs": [
    {
     "data": {
      "text/plain": [
       "Text(0.5, 1.0, 'Kubernetes Count History')"
      ]
     },
     "execution_count": 7,
     "metadata": {},
     "output_type": "execute_result"
    },
    {
     "data": {
      "image/png": "[encoded data removed]",
      "text/plain": [
       "<Figure size 432x288 with 1 Axes>"
      ]
     },
     "metadata": {
      "needs_background": "light"
     },
     "output_type": "display_data"
    }
   ],
   "source": [
    "plt.plot(df1, color='blue', linestyle='--')\n",
    "plt.xlabel('Year')\n",
    "plt.ylabel('Count')\n",
    "plt.title('Kubernetes Count History')"
   ]
  },
  {
   "cell_type": "markdown",
   "metadata": {},
   "source": [
    "Another way to plot"
   ]
  },
  {
   "cell_type": "code",
   "execution_count": 8,
   "metadata": {
    "ExecuteTime": {
     "end_time": "2019-07-26T06:01:41.495526Z",
     "start_time": "2019-07-26T06:01:41.152259Z"
    }
   },
   "outputs": [
    {
     "data": {
      "text/plain": [
       "<matplotlib.axes._subplots.AxesSubplot at 0x7f8baac18b38>"
      ]
     },
     "execution_count": 8,
     "metadata": {},
     "output_type": "execute_result"
    },
    {
     "data": {
      "image/png": "[encoded data removed]",
      "text/plain": [
       "<Figure size 432x288 with 1 Axes>"
      ]
     },
     "metadata": {
      "needs_background": "light"
     },
     "output_type": "display_data"
    }
   ],
   "source": [
    "df1.plot.bar(rot=0, title='Kubernetes Count History')"
   ]
  },
  {
   "cell_type": "markdown",
   "metadata": {},
   "source": [
    "# SQL Codes\n",
    "\n",
    "Jupyter magic functions alow you to replace a boilerplate code snippets with more concise one.\n",
    "Magic functions are pre-defined functions(“magics”) in Jupyter kernel that executes supplied commands.\n",
    "There are two kinds of magics line-oriented and cell-oriented prefaced with % and %% respectively.\n",
    "To enable the magic we need an ipython-sql library."
   ]
  },
  {
   "cell_type": "code",
   "execution_count": 9,
   "metadata": {
    "ExecuteTime": {
     "end_time": "2019-07-26T06:01:47.526031Z",
     "start_time": "2019-07-26T06:01:47.194462Z"
    }
   },
   "outputs": [],
   "source": [
    "%load_ext sql\n",
    "%config SqlMagic.autocommit=False # for engines that do not support autommit"
   ]
  },
  {
   "cell_type": "markdown",
   "metadata": {},
   "source": [
    "## Create Temp Database"
   ]
  },
  {
   "cell_type": "code",
   "execution_count": 10,
   "metadata": {
    "ExecuteTime": {
     "end_time": "2019-07-26T06:01:50.348214Z",
     "start_time": "2019-07-26T06:01:50.124251Z"
    }
   },
   "outputs": [],
   "source": [
    "from sqlalchemy import create_engine\n",
    "\n",
    "engine = create_engine('sqlite:///tmp.db')\n",
    "df.to_sql(con=engine, name='test', if_exists='replace')"
   ]
  },
  {
   "cell_type": "markdown",
   "metadata": {},
   "source": [
    "## Read Data with SQL"
   ]
  },
  {
   "cell_type": "code",
   "execution_count": 11,
   "metadata": {
    "ExecuteTime": {
     "end_time": "2019-07-26T06:01:53.369194Z",
     "start_time": "2019-07-26T06:01:53.353530Z"
    }
   },
   "outputs": [
    {
     "name": "stdout",
     "output_type": "stream",
     "text": [
      "Done.\n"
     ]
    },
    {
     "data": {
      "text/html": [
       "<table>\n",
       "    <tr>\n",
       "        <th>index</th>\n",
       "        <th>master_term</th>\n",
       "        <th>master_term_id</th>\n",
       "        <th>yearmo</th>\n",
       "        <th>month_no</th>\n",
       "        <th>skill_pos_cnt</th>\n",
       "        <th>total_pos_cnt</th>\n",
       "        <th>loop_no</th>\n",
       "        <th>year_no</th>\n",
       "    </tr>\n",
       "    <tr>\n",
       "        <td>0</td>\n",
       "        <td>Kubernetes</td>\n",
       "        <td>121</td>\n",
       "        <td>201404</td>\n",
       "        <td>4</td>\n",
       "        <td>0</td>\n",
       "        <td>33323</td>\n",
       "        <td>53</td>\n",
       "        <td>2014</td>\n",
       "    </tr>\n",
       "    <tr>\n",
       "        <td>1</td>\n",
       "        <td>Stata</td>\n",
       "        <td>214</td>\n",
       "        <td>201905</td>\n",
       "        <td>65</td>\n",
       "        <td>39</td>\n",
       "        <td>140823</td>\n",
       "        <td>88</td>\n",
       "        <td>2019</td>\n",
       "    </tr>\n",
       "    <tr>\n",
       "        <td>2</td>\n",
       "        <td>Selenium</td>\n",
       "        <td>205</td>\n",
       "        <td>201502</td>\n",
       "        <td>14</td>\n",
       "        <td>250</td>\n",
       "        <td>89734</td>\n",
       "        <td>85</td>\n",
       "        <td>2015</td>\n",
       "    </tr>\n",
       "    <tr>\n",
       "        <td>3</td>\n",
       "        <td>Cisco Application Centric Infrastructure</td>\n",
       "        <td>264</td>\n",
       "        <td>201705</td>\n",
       "        <td>41</td>\n",
       "        <td>3</td>\n",
       "        <td>119820</td>\n",
       "        <td>103</td>\n",
       "        <td>2017</td>\n",
       "    </tr>\n",
       "    <tr>\n",
       "        <td>4</td>\n",
       "        <td>Online Analytical Processing</td>\n",
       "        <td>166</td>\n",
       "        <td>201903</td>\n",
       "        <td>63</td>\n",
       "        <td>55</td>\n",
       "        <td>123132</td>\n",
       "        <td>70</td>\n",
       "        <td>2019</td>\n",
       "    </tr>\n",
       "    <tr>\n",
       "        <td>5</td>\n",
       "        <td>Junit</td>\n",
       "        <td>118</td>\n",
       "        <td>201710</td>\n",
       "        <td>46</td>\n",
       "        <td>438</td>\n",
       "        <td>128582</td>\n",
       "        <td>51</td>\n",
       "        <td>2017</td>\n",
       "    </tr>\n",
       "    <tr>\n",
       "        <td>6</td>\n",
       "        <td>Secret Security Clearance</td>\n",
       "        <td>276</td>\n",
       "        <td>201610</td>\n",
       "        <td>34</td>\n",
       "        <td>29</td>\n",
       "        <td>95676</td>\n",
       "        <td>107</td>\n",
       "        <td>2016</td>\n",
       "    </tr>\n",
       "    <tr>\n",
       "        <td>7</td>\n",
       "        <td>SQL Server Reporting Services</td>\n",
       "        <td>148</td>\n",
       "        <td>201405</td>\n",
       "        <td>5</td>\n",
       "        <td>87</td>\n",
       "        <td>31909</td>\n",
       "        <td>61</td>\n",
       "        <td>2014</td>\n",
       "    </tr>\n",
       "    <tr>\n",
       "        <td>8</td>\n",
       "        <td>Blockchain</td>\n",
       "        <td>39</td>\n",
       "        <td>201704</td>\n",
       "        <td>40</td>\n",
       "        <td>0</td>\n",
       "        <td>104890</td>\n",
       "        <td>18</td>\n",
       "        <td>2017</td>\n",
       "    </tr>\n",
       "    <tr>\n",
       "        <td>9</td>\n",
       "        <td>Internal Auditor</td>\n",
       "        <td>108</td>\n",
       "        <td>201901</td>\n",
       "        <td>61</td>\n",
       "        <td>130</td>\n",
       "        <td>122037</td>\n",
       "        <td>48</td>\n",
       "        <td>2019</td>\n",
       "    </tr>\n",
       "</table>"
      ],
      "text/plain": [
       "[(0, 'Kubernetes', 121, 201404, 4, 0, 33323, 53, '2014'),\n",
       " (1, 'Stata', 214, 201905, 65, 39, 140823, 88, '2019'),\n",
       " (2, 'Selenium', 205, 201502, 14, 250, 89734, 85, '2015'),\n",
       " (3, 'Cisco Application Centric Infrastructure', 264, 201705, 41, 3, 119820, 103, '2017'),\n",
       " (4, 'Online Analytical Processing', 166, 201903, 63, 55, 123132, 70, '2019'),\n",
       " (5, 'Junit', 118, 201710, 46, 438, 128582, 51, '2017'),\n",
       " (6, 'Secret Security Clearance', 276, 201610, 34, 29, 95676, 107, '2016'),\n",
       " (7, 'SQL Server Reporting Services', 148, 201405, 5, 87, 31909, 61, '2014'),\n",
       " (8, 'Blockchain', 39, 201704, 40, 0, 104890, 18, '2017'),\n",
       " (9, 'Internal Auditor', 108, 201901, 61, 130, 122037, 48, '2019')]"
      ]
     },
     "execution_count": 11,
     "metadata": {},
     "output_type": "execute_result"
    }
   ],
   "source": [
    "%%sql sqlite:///tmp.db\n",
    "\n",
    "select * from test limit 10"
   ]
  },
  {
   "cell_type": "markdown",
   "metadata": {},
   "source": [
    "## Transfer between SQL and Data Frame"
   ]
  },
  {
   "cell_type": "code",
   "execution_count": 12,
   "metadata": {
    "ExecuteTime": {
     "end_time": "2019-07-26T06:01:56.766338Z",
     "start_time": "2019-07-26T06:01:56.705034Z"
    }
   },
   "outputs": [
    {
     "name": "stdout",
     "output_type": "stream",
     "text": [
      " * sqlite:///tmp.db\n",
      "Done.\n",
      "Totla records:  107\n"
     ]
    },
    {
     "data": {
      "text/html": [
       "<div>\n",
       "<style scoped>\n",
       "    .dataframe tbody tr th:only-of-type {\n",
       "        vertical-align: middle;\n",
       "    }\n",
       "\n",
       "    .dataframe tbody tr th {\n",
       "        vertical-align: top;\n",
       "    }\n",
       "\n",
       "    .dataframe thead th {\n",
       "        text-align: right;\n",
       "    }\n",
       "</style>\n",
       "<table border=\"1\" class=\"dataframe\">\n",
       "  <thead>\n",
       "    <tr style=\"text-align: right;\">\n",
       "      <th></th>\n",
       "      <th>master_term</th>\n",
       "      <th>skill_pos_cnt</th>\n",
       "    </tr>\n",
       "  </thead>\n",
       "  <tbody>\n",
       "    <tr>\n",
       "      <th>3</th>\n",
       "      <td>Cisco Application Centric Infrastructure</td>\n",
       "      <td>3</td>\n",
       "    </tr>\n",
       "    <tr>\n",
       "      <th>55</th>\n",
       "      <td>Golang</td>\n",
       "      <td>57</td>\n",
       "    </tr>\n",
       "    <tr>\n",
       "      <th>67</th>\n",
       "      <td>ASP.NET</td>\n",
       "      <td>705</td>\n",
       "    </tr>\n",
       "    <tr>\n",
       "      <th>71</th>\n",
       "      <td>Ruby</td>\n",
       "      <td>483</td>\n",
       "    </tr>\n",
       "    <tr>\n",
       "      <th>158</th>\n",
       "      <td>Outlook</td>\n",
       "      <td>3380</td>\n",
       "    </tr>\n",
       "    <tr>\n",
       "      <th>331</th>\n",
       "      <td>IBM Notes</td>\n",
       "      <td>0</td>\n",
       "    </tr>\n",
       "    <tr>\n",
       "      <th>344</th>\n",
       "      <td>JCL</td>\n",
       "      <td>130</td>\n",
       "    </tr>\n",
       "    <tr>\n",
       "      <th>366</th>\n",
       "      <td>WildFly</td>\n",
       "      <td>643</td>\n",
       "    </tr>\n",
       "    <tr>\n",
       "      <th>367</th>\n",
       "      <td>Switching and Routing</td>\n",
       "      <td>264</td>\n",
       "    </tr>\n",
       "    <tr>\n",
       "      <th>436</th>\n",
       "      <td>AWS Cloud</td>\n",
       "      <td>510</td>\n",
       "    </tr>\n",
       "  </tbody>\n",
       "</table>\n",
       "</div>"
      ],
      "text/plain": [
       "                                  master_term  skill_pos_cnt\n",
       "3    Cisco Application Centric Infrastructure              3\n",
       "55                                     Golang             57\n",
       "67                                    ASP.NET            705\n",
       "71                                       Ruby            483\n",
       "158                                   Outlook           3380\n",
       "331                                 IBM Notes              0\n",
       "344                                       JCL            130\n",
       "366                                   WildFly            643\n",
       "367                     Switching and Routing            264\n",
       "436                                 AWS Cloud            510"
      ]
     },
     "execution_count": 12,
     "metadata": {},
     "output_type": "execute_result"
    }
   ],
   "source": [
    "result = %sql select * from test\n",
    "df = result.DataFrame()\n",
    "df2 = df.loc[df['yearmo']==201705, ['master_term', 'skill_pos_cnt']]\n",
    "print(\"Totla records: \", df2.shape[0])\n",
    "df2.head(10)"
   ]
  },
  {
   "cell_type": "code",
   "execution_count": null,
   "metadata": {},
   "outputs": [],
   "source": [
    "%sql PERSIST df2;"
   ]
  },
  {
   "cell_type": "code",
   "execution_count": 14,
   "metadata": {
    "ExecuteTime": {
     "end_time": "2019-07-26T06:02:50.636261Z",
     "start_time": "2019-07-26T06:02:50.623329Z"
    }
   },
   "outputs": [
    {
     "name": "stdout",
     "output_type": "stream",
     "text": [
      " * sqlite:///tmp.db\n",
      "Done.\n"
     ]
    },
    {
     "data": {
      "text/html": [
       "<table>\n",
       "    <tr>\n",
       "        <th>index</th>\n",
       "        <th>master_term</th>\n",
       "        <th>skill_pos_cnt</th>\n",
       "    </tr>\n",
       "    <tr>\n",
       "        <td>3</td>\n",
       "        <td>Cisco Application Centric Infrastructure</td>\n",
       "        <td>3</td>\n",
       "    </tr>\n",
       "    <tr>\n",
       "        <td>55</td>\n",
       "        <td>Golang</td>\n",
       "        <td>57</td>\n",
       "    </tr>\n",
       "    <tr>\n",
       "        <td>67</td>\n",
       "        <td>ASP.NET</td>\n",
       "        <td>705</td>\n",
       "    </tr>\n",
       "    <tr>\n",
       "        <td>71</td>\n",
       "        <td>Ruby</td>\n",
       "        <td>483</td>\n",
       "    </tr>\n",
       "    <tr>\n",
       "        <td>158</td>\n",
       "        <td>Outlook</td>\n",
       "        <td>3380</td>\n",
       "    </tr>\n",
       "    <tr>\n",
       "        <td>331</td>\n",
       "        <td>IBM Notes</td>\n",
       "        <td>0</td>\n",
       "    </tr>\n",
       "    <tr>\n",
       "        <td>344</td>\n",
       "        <td>JCL</td>\n",
       "        <td>130</td>\n",
       "    </tr>\n",
       "    <tr>\n",
       "        <td>366</td>\n",
       "        <td>WildFly</td>\n",
       "        <td>643</td>\n",
       "    </tr>\n",
       "    <tr>\n",
       "        <td>367</td>\n",
       "        <td>Switching and Routing</td>\n",
       "        <td>264</td>\n",
       "    </tr>\n",
       "    <tr>\n",
       "        <td>436</td>\n",
       "        <td>AWS Cloud</td>\n",
       "        <td>510</td>\n",
       "    </tr>\n",
       "</table>"
      ],
      "text/plain": [
       "[(3, 'Cisco Application Centric Infrastructure', 3),\n",
       " (55, 'Golang', 57),\n",
       " (67, 'ASP.NET', 705),\n",
       " (71, 'Ruby', 483),\n",
       " (158, 'Outlook', 3380),\n",
       " (331, 'IBM Notes', 0),\n",
       " (344, 'JCL', 130),\n",
       " (366, 'WildFly', 643),\n",
       " (367, 'Switching and Routing', 264),\n",
       " (436, 'AWS Cloud', 510)]"
      ]
     },
     "execution_count": 14,
     "metadata": {},
     "output_type": "execute_result"
    }
   ],
   "source": [
    "%sql select * from df2 limit 10;"
   ]
  },
  {
   "cell_type": "markdown",
   "metadata": {},
   "source": [
    "**Note: to store a large volume dataset, recommend to use other relational database, such as mysql, postgres, mssql, etc., rather than sqlite**"
   ]
  },
  {
   "cell_type": "markdown",
   "metadata": {},
   "source": [
    "# Linux Commands\n",
    "\n",
    "Any command that works at the command-line can be used in IPython by prefixing it with the ! character. For example,"
   ]
  },
  {
   "cell_type": "code",
   "execution_count": 17,
   "metadata": {
    "ExecuteTime": {
     "end_time": "2019-07-26T06:03:31.429187Z",
     "start_time": "2019-07-26T06:03:31.268940Z"
    },
    "scrolled": true
   },
   "outputs": [
    {
     "name": "stdout",
     "output_type": "stream",
     "text": [
      "datasets  jupyter_notes\r\n"
     ]
    }
   ],
   "source": [
    "!ls ../"
   ]
  },
  {
   "cell_type": "code",
   "execution_count": 18,
   "metadata": {
    "ExecuteTime": {
     "end_time": "2019-07-26T06:03:35.794022Z",
     "start_time": "2019-07-26T06:03:35.640022Z"
    }
   },
   "outputs": [
    {
     "name": "stdout",
     "output_type": "stream",
     "text": [
      "/mnt/c/users/ychen/Desktop/Work/Allegis/Data Science/S140619_Data Science Tool Kits/Notebook_Demo/jupyter_notes\r\n"
     ]
    }
   ],
   "source": [
    "!pwd"
   ]
  },
  {
   "cell_type": "code",
   "execution_count": 19,
   "metadata": {
    "ExecuteTime": {
     "end_time": "2019-07-26T06:04:14.838623Z",
     "start_time": "2019-07-26T06:04:14.790307Z"
    }
   },
   "outputs": [
    {
     "name": "stdout",
     "output_type": "stream",
     "text": [
      "['/mnt/c/users/ychen/Desktop/Work/Allegis/Data Science/S140619_Data Science Tool Kits/Notebook_Demo/jupyter_notes']\n"
     ]
    }
   ],
   "source": [
    "# mix Linux Commands and Python Codes\n",
    "directory = !pwd\n",
    "print(directory)"
   ]
  },
  {
   "cell_type": "markdown",
   "metadata": {},
   "source": [
    "__if you play with IPython's shell commands for a while, you might notice that you cannot use !cd to navigate the filesystem:__"
   ]
  },
  {
   "cell_type": "code",
   "execution_count": 22,
   "metadata": {
    "ExecuteTime": {
     "end_time": "2019-07-26T06:04:45.193269Z",
     "start_time": "2019-07-26T06:04:44.709998Z"
    }
   },
   "outputs": [
    {
     "name": "stdout",
     "output_type": "stream",
     "text": [
      "/mnt/c/users/ychen/Desktop/Work/Allegis/Data Science/S140619_Data Science Tool Kits/Notebook_Demo\n",
      "/mnt/c/users/ychen/Desktop/Work/Allegis/Data Science/S140619_Data Science Tool Kits/Notebook_Demo\n"
     ]
    }
   ],
   "source": [
    "!pwd\n",
    "!cd ..\n",
    "!pwd"
   ]
  },
  {
   "cell_type": "markdown",
   "metadata": {},
   "source": [
    "The reason is that shell commands in the notebook are executed in a temporary subshell. \n",
    "If you'd like to change the working directory in a more enduring way, you can use the %cd magic command:"
   ]
  },
  {
   "cell_type": "code",
   "execution_count": 23,
   "metadata": {
    "ExecuteTime": {
     "end_time": "2019-07-26T06:04:50.219868Z",
     "start_time": "2019-07-26T06:04:49.892380Z"
    }
   },
   "outputs": [
    {
     "name": "stdout",
     "output_type": "stream",
     "text": [
      "/mnt/c/users/ychen/Desktop/Work/Allegis/Data Science/S140619_Data Science Tool Kits/Notebook_Demo\n",
      "/mnt/c/users/ychen/Desktop/Work/Allegis/Data Science/S140619_Data Science Tool Kits\n",
      "/mnt/c/users/ychen/Desktop/Work/Allegis/Data Science/S140619_Data Science Tool Kits\n"
     ]
    }
   ],
   "source": [
    "!pwd\n",
    "%cd ..\n",
    "!pwd"
   ]
  },
  {
   "cell_type": "markdown",
   "metadata": {},
   "source": [
    "This is known as an automagic function, and this behavior can be toggled with the %automagic magic function.\n",
    "\n",
    "Besides %cd, other available shell-like magic functions are %cat, %cp, %env, %ls, %man, %mkdir, %more, %mv, %pwd, %rm, \n",
    "and %rmdir, any of which can be used without the % sign if automagic is on. This makes it so that you can almost treat \n",
    "the IPython prompt as if it's a normal shell:"
   ]
  },
  {
   "cell_type": "markdown",
   "metadata": {},
   "source": [
    "# Snippets as Templates"
   ]
  },
  {
   "cell_type": "markdown",
   "metadata": {},
   "source": [
    "__Snippets allow me to save time typing and keep things consistent.__"
   ]
  },
  {
   "cell_type": "markdown",
   "metadata": {},
   "source": [
    "For example:"
   ]
  },
  {
   "cell_type": "markdown",
   "metadata": {
    "ExecuteTime": {
     "end_time": "2019-07-26T05:04:32.812536Z",
     "start_time": "2019-07-26T05:04:32.672780Z"
    }
   },
   "source": [
    "![Title 1](./snippets-demo.gif)"
   ]
  },
  {
   "cell_type": "markdown",
   "metadata": {},
   "source": [
    "With Snippets manu, you can fill a cell with a lot of pre-defined snippets. For example"
   ]
  },
  {
   "cell_type": "markdown",
   "metadata": {},
   "source": [
    "![Title 1](./Capture_1.png)"
   ]
  },
  {
   "cell_type": "markdown",
   "metadata": {},
   "source": [
    "Then you can get the new cell added with pre-filled snippet for \"Read from CSV\" like below:"
   ]
  },
  {
   "cell_type": "code",
   "execution_count": null,
   "metadata": {},
   "outputs": [],
   "source": [
    "bp_data = pd.read_csv(\"path/to/file.csv\", header=1, delim_whitespace=True)"
   ]
  },
  {
   "cell_type": "code",
   "execution_count": null,
   "metadata": {},
   "outputs": [],
   "source": []
  }
 ],
 "metadata": {
  "kernelspec": {
   "display_name": "Python 3",
   "language": "python",
   "name": "python3"
  },
  "language_info": {
   "codemirror_mode": {
    "name": "ipython",
    "version": 3
   },
   "file_extension": ".py",
   "mimetype": "text/x-python",
   "name": "python",
   "nbconvert_exporter": "python",
   "pygments_lexer": "ipython3",
   "version": "3.6.8"
  },
  "toc": {
   "base_numbering": 1,
   "nav_menu": {},
   "number_sections": true,
   "sideBar": true,
   "skip_h1_title": false,
   "title_cell": "Table of Contents",
   "title_sidebar": "Contents",
   "toc_cell": false,
   "toc_position": {
    "height": "calc(100% - 180px)",
    "left": "10px",
    "top": "150px",
    "width": "320px"
   },
   "toc_section_display": true,
   "toc_window_display": true
  }
 },
 "nbformat": 4,
 "nbformat_minor": 2
}
